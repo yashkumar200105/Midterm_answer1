{
 "cells": [
  {
   "cell_type": "markdown",
   "id": "04e5accf-48c3-4235-9a7b-d53f110b7cdd",
   "metadata": {},
   "source": [
    "# Question 1\n",
    "In a jupyter notebook solve the following question. Please upload the notebook to GitHub and provide the link submission box below.\n",
    "\n",
    " \n",
    "\n",
    "_int()_: Constructor that takes as input a pair of Point objects that represent the ends points of the line segment\n",
    "\n",
    "Length():: returns the length if the segment \n",
    "\n",
    "Slope() returns the slope of the segment of none if the slope is unbounded \n",
    "\n",
    " \n",
    "\n",
    ">>> point1 = Point(3,4)\n",
    "\n",
    ">>> point2 = Point()\n",
    "\n",
    ">>> s = Segment(point1,point2)\n",
    "\n",
    ">>> s.length()\n",
    "\n",
    "5.0\n",
    "\n",
    ">>> s.slope()\n",
    "\n",
    "0.75"
   ]
  },
  {
   "cell_type": "code",
   "execution_count": 1,
   "id": "136852e8-c505-4ee8-88ab-8aa7b6708f66",
   "metadata": {},
   "outputs": [
    {
     "name": "stdout",
     "output_type": "stream",
     "text": [
      "Length of the segment: 5.0\n",
      "Slope of the segment: 1.3333333333333333\n"
     ]
    }
   ],
   "source": [
    "import math\n",
    "\n",
    "# Class that represents a 2D point\n",
    "class Point:\n",
    "    def __init__(self, x=0, y=0):\n",
    "        # The constructor initializes the point's x and y coordinates.\n",
    "        self.x = x\n",
    "        self.y = y\n",
    "\n",
    "# Class representing a line segment between two points\n",
    "class Segment:\n",
    "    def __init__(self, point1, point2):\n",
    "        # Constructor takes two Point objects to define the segment\n",
    "        self.point1 = point1\n",
    "        self.point2 = point2\n",
    "\n",
    "    # Method for calculating the length of the segment\n",
    "    def length(self):\n",
    "        return math.sqrt((self.point2.x - self.point1.x) ** 2 + (self.point2.y - self.point1.y) ** 2)\n",
    "\n",
    "    # Method for calculating the slope of the segment\n",
    "    def slope(self):\n",
    "        if self.point2.x == self.point1.x:  \n",
    "            return None\n",
    "        return (self.point2.y - self.point1.y) / (self.point2.x - self.point1.x)\n",
    "\n",
    "\n",
    "# Example usage of the classes\n",
    "point1 = Point(3, 4) # Creating a point with coordinates (3, 4)\n",
    "point2 = Point(0, 0) # Creating a point with coordinates (0, 0)\n",
    "s = Segment(point1, point2) # Creating a segment between point1 and point2\n",
    "\n",
    "# Printing the length of the segment using the length() method\n",
    "print(\"Length of the segment:\", s.length())\n",
    "# Printing the slope of the segment using the slope() method\n",
    "print(\"Slope of the segment:\", s.slope())\n"
   ]
  }
 ],
 "metadata": {
  "kernelspec": {
   "display_name": "Python 3 (ipykernel)",
   "language": "python",
   "name": "python3"
  },
  "language_info": {
   "codemirror_mode": {
    "name": "ipython",
    "version": 3
   },
   "file_extension": ".py",
   "mimetype": "text/x-python",
   "name": "python",
   "nbconvert_exporter": "python",
   "pygments_lexer": "ipython3",
   "version": "3.12.7"
  }
 },
 "nbformat": 4,
 "nbformat_minor": 5
}
